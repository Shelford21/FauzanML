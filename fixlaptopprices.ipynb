{
 "cells": [
  {
   "attachments": {},
   "cell_type": "markdown",
   "metadata": {},
   "source": [
    "# Laporan Proyek Machine Learning\n",
    "### Nama :  Fauzan Fadhillah Arisandi\n",
    "### Nim :   211351055\n",
    "### Kelas : Pagi B\n",
    "\n",
    "## Domain Proyek\n",
    "\n",
    "Memprediksi harga laptop merupakan upaya yang krusial dan signifikan.Semakin kesini laptop menjadi sering digunakan karena laptop mudah di bawa kemana-mana , tidak seperti komputer.Maka dari itu banyak yang menginginkan untuk mempunyai laptop tetapi sebagian besar berkeinginan untuk memiliki spek laptop yang bagus tetapi tidak bisa memprediksi harganya.Bagian yang penting dari sebuah laptop biasanya merek dan model, RAM, ROM, GPU, CPU, dan sebagainya. Beberapa perusahaan laptop berkinginan untuk membandingkan harga brand nya dengan brand yang lain , untuk mengetahui harga yang dapat dijangkau oleh pembeli sehingga memiliki peluang besar pembeli membeli brand nya."
   ]
  },
  {
   "attachments": {},
   "cell_type": "markdown",
   "metadata": {},
   "source": [
    "## Business Understanding\n",
    "Dikarnakan laptop itu praktis , mudah di bawa kemana-mana, dan banyak yang menginginkan nya.Maka di butuhkan penelitian yang dapat memprediksi harga laptop , yang sesuai dengan spesifikasi laptop yang pembeli inginkan sehingga pembeli memiliki gambaran pada modal harga laptop yang di inginkan. Perusahaan membutuhkan wawasan pada harga laptop brand lain, supaya dapat membandingkan harga laptop brand nya dengan yang lain sehingga dapat mengetahui harga yang terjangkau untuk pembeli.\n",
    "\n",
    "### Problem Statements\n",
    "\n",
    "Menjelaskan pernyataan masalah latar belakang:\n",
    "- Pembeli tidak dapat memprediksi harga dengan spek laptop yang di inginkan\n",
    "- Perusahaan tidak dapat mengetahui harga laptop brand lain\n",
    "\n",
    "### Goals\n",
    "\n",
    "Menjelaskan tujuan dari pernyataan masalah:\n",
    "- Membuat penelitian untuk dapat memprediksi harga laptop yang dinginkan pembeli\n",
    "- Mendapatkan wawasan pada harga laptop brand lain\n"
   ]
  },
  {
   "attachments": {},
   "cell_type": "markdown",
   "metadata": {},
   "source": [
    "## Data Understanding\n",
    "[Laptop Prices Dataset][https://www.kaggle.com/datasets/anubhavgoyal10/laptop-prices-dataset/data)\n"
   ]
  },
  {
   "attachments": {},
   "cell_type": "markdown",
   "metadata": {},
   "source": [
    "Mengimpor Library yang dibutuhkan yakni matplotlib , seaborn ,pandas dan numpy"
   ]
  },
  {
   "cell_type": "code",
   "execution_count": null,
   "metadata": {},
   "outputs": [],
   "source": [
    "import matplotlib.pyplot as plt\n",
    "import seaborn as sns\n",
    "import pandas as pd\n",
    "import numpy as np"
   ]
  },
  {
   "attachments": {},
   "cell_type": "markdown",
   "metadata": {},
   "source": [
    "membaca data csv"
   ]
  },
  {
   "cell_type": "code",
   "execution_count": null,
   "metadata": {},
   "outputs": [],
   "source": [
    "df = pd.read_csv('laptopPrices/laptopPrice.csv')\n",
    "df.head()"
   ]
  },
  {
   "attachments": {},
   "cell_type": "markdown",
   "metadata": {},
   "source": [
    "Memeriksa berapa baris dan kolom"
   ]
  },
  {
   "cell_type": "code",
   "execution_count": null,
   "metadata": {},
   "outputs": [],
   "source": [
    "\n",
    "df.shape"
   ]
  },
  {
   "attachments": {},
   "cell_type": "markdown",
   "metadata": {},
   "source": [
    "memeriksa apakah ada nilai null/NaN pada dataset"
   ]
  },
  {
   "cell_type": "code",
   "execution_count": null,
   "metadata": {},
   "outputs": [],
   "source": [
    "\n",
    "df.isna().sum()"
   ]
  },
  {
   "attachments": {},
   "cell_type": "markdown",
   "metadata": {},
   "source": [
    "Mengetahui deskripsi pada data"
   ]
  },
  {
   "cell_type": "code",
   "execution_count": null,
   "metadata": {},
   "outputs": [],
   "source": [
    "\n",
    "df.describe()"
   ]
  },
  {
   "cell_type": "code",
   "execution_count": null,
   "metadata": {},
   "outputs": [],
   "source": [
    "df.info()"
   ]
  },
  {
   "attachments": {},
   "cell_type": "markdown",
   "metadata": {},
   "source": [
    "Menemukan duplikasi baris,lalu di hilangkan , lalu menunjukan hasil setelah di hilangkan/di drop"
   ]
  },
  {
   "cell_type": "code",
   "execution_count": null,
   "metadata": {},
   "outputs": [],
   "source": [
    "\n",
    "df.duplicated().sum()\n",
    "\n",
    "df= df.drop_duplicates()\n",
    "\n",
    "df.shape"
   ]
  },
  {
   "attachments": {},
   "cell_type": "markdown",
   "metadata": {},
   "source": [
    "### Variabel-variabel pada Laptop Prices Dataset adalah sebagai berikut:\n",
    "- brand             : Merupakan merek laptop [Contoh: Asus,Lenovo]\n",
    "- processor_brand   : Merupakan merek processor [Contoh: Intel,AMD]\n",
    "- processor_name    : Merupakan nama processor [Contoh: Core i3, Celeron Dual]\n",
    "- processor_gnrtn   : Merupakan generasi processor [Contoh: 10th,11th]\n",
    "- ram_gb            : Merupakan kapasitas memori jangka pendek [Contoh: 4 GB, 8 GB]\n",
    "- ram _type         : Merupakan tipe ram [Contoh: DDR4,LPDDR4X]\n",
    "- ssd               : Merupakan perangkat untuk menyimpan data yang dapat membaca dan menulis data hingga 550 MB/s[Contoh: 512 GB, 1024 GB]\n",
    "- hdd               : Merupakan perangkat untuk menyimpan data yang dapat membaca dan menulis data hingga kecepatan rata-rata 60 MB/s [Contoh: 1024 GB]\n",
    "- os                : Merupakan sistem operasi untuk mengelola memori komputer dan proses-proses yang berjalan di komputer [Contoh: Windows]\n",
    "- os_bit            : Merupakan satuan data sistem operasi [contoh: 32-bit, 64-bit]\n",
    "- graphic_card_gb   : Merupakan kapasitas kartu grafis [Contoh: 2 GB, 4 GB]\n",
    "- weight            : Merupakan berat laptop [Contoh: Casual]\n",
    "- warranty          : Merupakan garansi pada laptop [Contoh: 1 year , 2 years]\n",
    "- Touchscreen       : Merupakan tipe laptop dengan layar sentuh [Contoh: Yes, No]\n",
    "- msoffice          : Merupakan microsoft office pada laptop yang tujuannya meliputi mengolah data [Contoh: Yes,No]\n",
    "- Price             : Merupakan harga laptop [Contoh: 57990,76990]\n",
    "- rating            : Merupakan nilai pada laptop [Contoh: 3 stars, 4 stars]\n",
    "- Number of Ratings : Merupakan berapa kali dilakukan penilaian pada laptop [Contoh: 14,739]\n",
    "- Number of Reviews : Merupakan berapa kali dilakukan ulasan pada laptop [Contoh: 100,19]"
   ]
  },
  {
   "attachments": {},
   "cell_type": "markdown",
   "metadata": {},
   "source": [
    "Mengetahui harga laptop berdasarkan Brand"
   ]
  },
  {
   "cell_type": "code",
   "execution_count": null,
   "metadata": {},
   "outputs": [],
   "source": [
    "\n",
    "df['brand'].value_counts()\n",
    "sns.barplot(data = df , x=df['brand'],y=df['Price'])"
   ]
  },
  {
   "attachments": {},
   "cell_type": "markdown",
   "metadata": {},
   "source": [
    "## Data Preparation\n",
    "\n",
    "Untuk menyiapkan data yang akhirnya akan dijadikan model . perlu di lakukan konversi data kategorikal ke data numerikal.\n",
    "Langkah - langkah yang perlu dilakukan adalah:\n",
    "1.Memilih kolom/Atribut data yang krusial/penting yang berguna di dalam memprediksi harga\n",
    "2.Merubah isi kolom tipe data kategorikal tersebut ke tipe data numerikal"
   ]
  },
  {
   "attachments": {},
   "cell_type": "markdown",
   "metadata": {},
   "source": [
    "## Menunjukan nilai unik pada kolom yang krusial dalam memprediksi harga\n",
    "Yakni kolom brand,processor_brand,processor_name,processor_gnrtn,ram_gb,ram_type,ssd,hdd,os,os_bit,graphic_card_gb"
   ]
  },
  {
   "cell_type": "code",
   "execution_count": null,
   "metadata": {},
   "outputs": [],
   "source": [
    "tdk_perlu = ['weight','warranty','rating','Number of Ratings','Number of Reviews']\n",
    "df = df.drop(columns=tdk_perlu)"
   ]
  },
  {
   "cell_type": "code",
   "execution_count": null,
   "metadata": {},
   "outputs": [],
   "source": [
    "df['brand'].unique()"
   ]
  },
  {
   "cell_type": "code",
   "execution_count": null,
   "metadata": {},
   "outputs": [],
   "source": [
    "df['processor_brand'].unique()"
   ]
  },
  {
   "cell_type": "code",
   "execution_count": null,
   "metadata": {},
   "outputs": [],
   "source": [
    "df['processor_name'].unique()"
   ]
  },
  {
   "cell_type": "code",
   "execution_count": null,
   "metadata": {},
   "outputs": [],
   "source": [
    "df['processor_gnrtn'].unique()"
   ]
  },
  {
   "cell_type": "code",
   "execution_count": null,
   "metadata": {},
   "outputs": [],
   "source": [
    "df['ram_gb'].unique()"
   ]
  },
  {
   "cell_type": "code",
   "execution_count": null,
   "metadata": {},
   "outputs": [],
   "source": [
    "df['ram_type'].unique()"
   ]
  },
  {
   "cell_type": "code",
   "execution_count": null,
   "metadata": {},
   "outputs": [],
   "source": [
    "df['hdd'].unique()"
   ]
  },
  {
   "cell_type": "code",
   "execution_count": null,
   "metadata": {},
   "outputs": [],
   "source": [
    "df['ssd'].unique()"
   ]
  },
  {
   "cell_type": "code",
   "execution_count": null,
   "metadata": {},
   "outputs": [],
   "source": [
    "df['os'].unique()"
   ]
  },
  {
   "cell_type": "code",
   "execution_count": null,
   "metadata": {},
   "outputs": [],
   "source": [
    "df['os_bit'].unique()"
   ]
  },
  {
   "cell_type": "code",
   "execution_count": null,
   "metadata": {},
   "outputs": [],
   "source": [
    "df['graphic_card_gb'].unique()"
   ]
  },
  {
   "cell_type": "code",
   "execution_count": null,
   "metadata": {},
   "outputs": [],
   "source": [
    "df['Touchscreen'].unique()"
   ]
  },
  {
   "cell_type": "code",
   "execution_count": null,
   "metadata": {},
   "outputs": [],
   "source": [
    "df['msoffice'].unique()"
   ]
  },
  {
   "attachments": {},
   "cell_type": "markdown",
   "metadata": {},
   "source": [
    "Merubah Nilai kategorikal ke nilai numerikal pada kolom brand,processor_brand,processor_name,processor_gnrtn,ram_gb,ram_type,ssd,hdd,os,os_bit,graphic_card_gb"
   ]
  },
  {
   "cell_type": "code",
   "execution_count": null,
   "metadata": {},
   "outputs": [],
   "source": [
    "\n",
    "df['brand'].replace(['ASUS', 'Lenovo','acer','Avita','HP','DELL','MSI','APPLE'],[0,1,2,3,4,5,6,7], inplace=True)\n",
    "df['processor_brand'].replace(['Intel', 'AMD', 'M1'],[0,1,2], inplace=True)\n",
    "df['processor_name'].replace(['Core i3', 'Core i5', 'Celeron Dual', 'Ryzen 5', 'Core i7','Core i9', 'M1', 'Pentium Quad', 'Ryzen 3', 'Ryzen 7', 'Ryzen 9'],[0,1,2,3,4,5,6,7,8,9,10], inplace=True)\n",
    "df['processor_gnrtn'].replace(['10th', 'Not Available', '11th', '7th', '8th', '9th', '4th','12th'],[10,0,11,7,8,9,4,12], inplace=True)\n",
    "df['ram_gb'].replace(['4 GB', '8 GB', '16 GB', '32 GB'],[4,8,16,32], inplace=True)\n",
    "df['ram_type'].replace(['DDR4', 'LPDDR4', 'LPDDR4X', 'DDR5', 'DDR3', 'LPDDR3'],[0,1,2,3,4,5], inplace=True)\n",
    "df['hdd'].replace(['1024 GB', '0 GB', '512 GB', '2048 GB'],[1024,0,512,2048], inplace=True)\n",
    "df['ssd'].replace(['0 GB', '512 GB', '256 GB', '128 GB', '1024 GB', '2048 GB','3072 GB'],[0,512,256,128,1024,2048,3072], inplace=True)\n",
    "df['os'].replace(['Windows', 'DOS', 'Mac'],[0,1,2], inplace=True)\n",
    "df['os_bit'].replace(['64-bit', '32-bit'],[64,32], inplace=True)\n",
    "df['graphic_card_gb'].replace(['0 GB', '2 GB', '4 GB', '6 GB', '8 GB'],[0,2,4,6,8], inplace=True)\n",
    "df['Touchscreen'].replace(['No', 'Yes'],[0,1], inplace=True)\n",
    "df['msoffice'].replace(['No', 'Yes'],[0,1], inplace=True)\n"
   ]
  },
  {
   "cell_type": "code",
   "execution_count": null,
   "metadata": {},
   "outputs": [],
   "source": [
    "corr_matrix = df.corr()\n",
    "plt.figure(figsize=(10,10))\n",
    "sns.heatmap(corr_matrix, annot=True)\n",
    "plt.show()"
   ]
  },
  {
   "attachments": {},
   "cell_type": "markdown",
   "metadata": {},
   "source": [
    "Menunjukan kolom setelah di replace"
   ]
  },
  {
   "cell_type": "code",
   "execution_count": null,
   "metadata": {},
   "outputs": [],
   "source": [
    "df.head()"
   ]
  },
  {
   "attachments": {},
   "cell_type": "markdown",
   "metadata": {},
   "source": [
    "## Modeling\n"
   ]
  },
  {
   "attachments": {},
   "cell_type": "markdown",
   "metadata": {},
   "source": [
    " Mengimpor train_test_split dari library sklearn dan Mengimpor LinearRegression dari library sklearn\n"
   ]
  },
  {
   "cell_type": "code",
   "execution_count": null,
   "metadata": {},
   "outputs": [],
   "source": [
    "from sklearn.model_selection import train_test_split\n",
    "from sklearn.linear_model import LinearRegression"
   ]
  },
  {
   "attachments": {},
   "cell_type": "markdown",
   "metadata": {},
   "source": [
    "menyingkatkan LinearRegression menjadi variable lr "
   ]
  },
  {
   "cell_type": "code",
   "execution_count": null,
   "metadata": {},
   "outputs": [],
   "source": [
    "lr = LinearRegression()"
   ]
  },
  {
   "attachments": {},
   "cell_type": "markdown",
   "metadata": {},
   "source": [
    "setelah sebelum nya sudah ditentukan kolom/atribut yang krusial , lalu drop kolom Price (Yakni Variable dependen) pada dataframe"
   ]
  },
  {
   "cell_type": "code",
   "execution_count": null,
   "metadata": {},
   "outputs": [],
   "source": [
    "X = df.drop(['Price'], axis=1)"
   ]
  },
  {
   "attachments": {},
   "cell_type": "markdown",
   "metadata": {},
   "source": [
    "Masukan kolom Price pada variable y"
   ]
  },
  {
   "cell_type": "code",
   "execution_count": null,
   "metadata": {},
   "outputs": [],
   "source": [
    "y = df['Price']"
   ]
  },
  {
   "attachments": {},
   "cell_type": "markdown",
   "metadata": {},
   "source": [
    "lakukan split data , untuk data train dan data test. (Disini saya masukan data test 25% dan data train 75 %)"
   ]
  },
  {
   "cell_type": "code",
   "execution_count": null,
   "metadata": {},
   "outputs": [],
   "source": [
    "\n",
    "X_train, X_test, y_train, y_test = train_test_split(X, y, test_size=0.25, random_state=42)\n"
   ]
  },
  {
   "attachments": {},
   "cell_type": "markdown",
   "metadata": {},
   "source": [
    "Membuat Regresi Linier"
   ]
  },
  {
   "cell_type": "code",
   "execution_count": null,
   "metadata": {},
   "outputs": [],
   "source": [
    "\n",
    "lr.fit(X_train,y_train)\n",
    "pred = lr.predict(X_test)\n",
    "score = lr.score(X_test,y_test)\n",
    "print('Akurasi model regresi linier = ') ,score "
   ]
  },
  {
   "attachments": {},
   "cell_type": "markdown",
   "metadata": {},
   "source": [
    "Dari regresi linier menghasilkan akurasi 71%"
   ]
  },
  {
   "cell_type": "code",
   "execution_count": null,
   "metadata": {},
   "outputs": [],
   "source": [
    "input_data = np.array([[1,1,2,10,3,3,1024,512,1,64,2,1,1]])\n",
    "prediction = lr.predict(input_data)\n",
    "print('Prediksi Harga Laptop: ', prediction)"
   ]
  },
  {
   "cell_type": "code",
   "execution_count": null,
   "metadata": {},
   "outputs": [],
   "source": [
    "from sklearn.metrics import r2_score\n",
    "r2_DT = r2_score(y_test, pred)  \n",
    "r2_DT\n",
    "\n",
    "print(f\"Precision = {r2_DT}\")\n"
   ]
  },
  {
   "attachments": {},
   "cell_type": "markdown",
   "metadata": {},
   "source": [
    "## Evaluation\n",
    "\n",
    "R-squared (R2) adalah ukuran statistik yang mewakili proporsi varians suatu variabel terikat yang dijelaskan oleh variabel bebas dalam model regresi."
   ]
  },
  {
   "attachments": {
    "image.png": {
     "image/png": "[encoded data removed]"
    }
   },
   "cell_type": "markdown",
   "metadata": {},
   "source": [
    "![image.png](attachment:image.png)"
   ]
  },
  {
   "cell_type": "code",
   "execution_count": null,
   "metadata": {},
   "outputs": [],
   "source": [
    "from sklearn.metrics import r2_score\n",
    "r2_DT = r2_score(y_test, pred)  \n",
    "r2_DT\n",
    "\n",
    "print(f\"Precision = {r2_DT}\")\n"
   ]
  },
  {
   "attachments": {},
   "cell_type": "markdown",
   "metadata": {},
   "source": [
    "didapatkan score 71% , sehingga dinyatakan bahwa variable dependen dengan variable independen itu berkolerasi tinggi"
   ]
  },
  {
   "attachments": {},
   "cell_type": "markdown",
   "metadata": {},
   "source": [
    "## Deployment\n"
   ]
  },
  {
   "cell_type": "code",
   "execution_count": null,
   "metadata": {},
   "outputs": [],
   "source": [
    "import pickle\n",
    "filename = 'laptop-prices.sav'\n",
    "pickle.dump(lr,open(filename,'wb'))"
   ]
  },
  {
   "cell_type": "code",
   "execution_count": null,
   "metadata": {},
   "outputs": [],
   "source": []
  }
 ],
 "metadata": {
  "kernelspec": {
   "display_name": "Python 3",
   "language": "python",
   "name": "python3"
  },
  "language_info": {
   "codemirror_mode": {
    "name": "ipython",
    "version": 3
   },
   "file_extension": ".py",
   "mimetype": "text/x-python",
   "name": "python",
   "nbconvert_exporter": "python",
   "pygments_lexer": "ipython3",
   "version": "3.11.1"
  },
  "orig_nbformat": 4
 },
 "nbformat": 4,
 "nbformat_minor": 2
}
